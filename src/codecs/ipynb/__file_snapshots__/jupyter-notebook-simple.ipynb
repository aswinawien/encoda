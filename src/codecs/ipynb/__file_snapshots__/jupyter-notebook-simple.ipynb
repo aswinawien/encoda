{
  "nbformat": 4,
  "nbformat_minor": 4,
  "metadata": {
    "title": "Jupyter notebook title",
    "authors": [
      {
        "name": "A. Jovian",
        "type": "Person"
      }
    ],
    "kernelspec": {
      "display_name": "Python 3",
      "language": "python",
      "name": "python3"
    },
    "language_info": {
      "codemirror_mode": {
        "name": "ipython",
        "version": 3
      },
      "file_extension": ".py",
      "mimetype": "text/x-python",
      "name": "python",
      "nbconvert_exporter": "python",
      "pygments_lexer": "ipython3",
      "version": "3.6.4"
    },
    "orig_nbformat": 1,
    "datePublished": {
      "value": "2020-04-01",
      "type": "Date"
    }
  },
  "cells": [
    {
      "cell_type": "markdown",
      "metadata": {},
      "source": [
        "# Heading 1\n",
        "\n",
        "A markdown cell with some text."
      ]
    },
    {
      "cell_type": "code",
      "metadata": {},
      "execution_count": 4,
      "source": [
        "greeting = 'Hello from Python'"
      ],
      "outputs": []
    },
    {
      "cell_type": "markdown",
      "metadata": {},
      "source": [
        "## Heading 1.1\n",
        "\n",
        "An other markdown cell."
      ]
    },
    {
      "cell_type": "code",
      "metadata": {},
      "execution_count": 6,
      "source": [
        "import sys\n",
        "print(greeting + ' ' + str(sys.version_info[0]))"
      ],
      "outputs": [
        {
          "output_type": "stream",
          "name": "stdout",
          "text": "Hello from Python 3"
        }
      ]
    }
  ]
}